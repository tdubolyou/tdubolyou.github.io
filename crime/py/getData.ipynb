{
 "cells": [
  {
   "cell_type": "code",
   "execution_count": 42,
   "metadata": {},
   "outputs": [],
   "source": [
    "import requests\n",
    "import geopandas as gpd\n",
    "import pandas as pd\n",
    "import numpy as np\n",
    "import json\n",
    "import os\n"
   ]
  },
  {
   "cell_type": "code",
   "execution_count": 23,
   "metadata": {},
   "outputs": [
    {
     "name": "stdout",
     "output_type": "stream",
     "text": [
      "data/mci.geojson downloaded\n",
      "data/hom.geojson downloaded\n",
      "data/gun.geojson downloaded\n",
      "data/bike.geojson downloaded\n",
      "data/car.geojson downloaded\n",
      "data/nbr.geojson downloaded\n"
     ]
    }
   ],
   "source": [
    "os.chdir(r\"/Users/tomweatherburn/Library/CloudStorage/OneDrive-Personal/dev/tdubolyou.github.io/crime\")\n",
    "\n",
    "# Dictionary of dataset names and their respective URLs\n",
    "datasets = {\n",
    "    \"mci\": \"https://services.arcgis.com/S9th0jAJ7bqgIRjw/arcgis/rest/services/Major_Crime_Indicators_Open_Data/FeatureServer/0/query\",\n",
    "    \"hom\": \"https://services.arcgis.com/S9th0jAJ7bqgIRjw/arcgis/rest/services/Homicides_Open_Data_ASR_RC_TBL_002/FeatureServer/0/query\",\n",
    "    \"gun\": \"https://services.arcgis.com/S9th0jAJ7bqgIRjw/arcgis/rest/services/Shooting_and_Firearm_Discharges_Open_Data/FeatureServer/0/query\",\n",
    "    \"bike\": \"https://services.arcgis.com/S9th0jAJ7bqgIRjw/arcgis/rest/services/Bicycle_Thefts_Open_Data/FeatureServer/0/query\",\n",
    "    \"car\":\"https://services.arcgis.com/S9th0jAJ7bqgIRjw/arcgis/rest/services/Theft_From_Motor_Vehicle_Open_Data/FeatureServer/0/query\",\n",
    "    \"nbr\":\"https://services.arcgis.com/S9th0jAJ7bqgIRjw/arcgis/rest/services/Neighbourhood_Crime_Rates_Open_Data/FeatureServer/0/query\"\n",
    "    # Add more datasets as needed\n",
    "}\n",
    "\n",
    "# Initialize a dictionary to store the GeoDataFrames\n",
    "gdfs = {}\n",
    "\n",
    "for dataset_name, url in datasets.items():\n",
    "    all_features = []\n",
    "    offset = 0\n",
    "    while True:\n",
    "        # Define request parameters\n",
    "        params = {\n",
    "            \"where\": \"1=1\",\n",
    "            \"outFields\": \"*\",\n",
    "            \"outSR\": \"4326\",\n",
    "            \"f\": \"geojson\",\n",
    "            \"resultRecordCount\": 2000,\n",
    "            \"resultOffset\": offset\n",
    "        }\n",
    "        \n",
    "        # Make the request\n",
    "        response = requests.get(url, params=params)\n",
    "        if response.status_code == 200:\n",
    "            data = response.json()\n",
    "            features = data.get(\"features\", [])\n",
    "            if not features:\n",
    "                break  # Exit loop if no more features to fetch\n",
    "            all_features.extend(features)\n",
    "            offset += len(features)\n",
    "        else:\n",
    "            print(f\"Failed to fetch data for {dataset_name}. Status code: {response.status_code}\")\n",
    "            break\n",
    "\n",
    "    # Convert all_features to a GeoDataFrame\n",
    "    gdf = gpd.GeoDataFrame.from_features(all_features)\n",
    "    \n",
    "    # Save the GeoDataFrame to a GeoJSON file\n",
    "    filename = f\"data/{dataset_name}.geojson\"\n",
    "    gdf.to_file(filename, driver='GeoJSON')\n",
    "\n",
    "    gdfs[f'gdf_{dataset_name}'] = gdf\n",
    "    print(filename+\" downloaded\")\n",
    "\n",
    "# At this point, gdfs contains a GeoDataFrame for each dataset, accessible via its name, e.g., gdfs['gdf_dataset1']\n"
   ]
  },
  {
   "cell_type": "code",
   "execution_count": 6,
   "metadata": {},
   "outputs": [
    {
     "name": "stdout",
     "output_type": "stream",
     "text": [
      "/Users/tomweatherburn/Library/CloudStorage/OneDrive-Personal/dev/tdubolyou.github.io/crime\n"
     ]
    }
   ],
   "source": [
    "os.chdir('/Users/tomweatherburn/Library/CloudStorage/OneDrive-Personal/dev/tdubolyou.github.io/crime')\n",
    "dir = os.getcwd()\n",
    "print(dir)\n"
   ]
  },
  {
   "cell_type": "code",
   "execution_count": 78,
   "metadata": {},
   "outputs": [],
   "source": [
    "gdf_mci = gpd.read_file(dir+\"/data/\"+'mci.geojson')\n",
    "gdf_hom = gpd.read_file(dir+\"/data/\"+'hom.geojson')\n",
    "gdf_gun = gpd.read_file(dir+\"/data/\"+'gun.geojson')\n",
    "gdf_bike = gpd.read_file(dir+\"/data/\"+'bike.geojson')\n",
    "gdf_car = gpd.read_file(dir+\"/data/\"+'car.geojson')\n",
    "gdf_nbr = gpd.read_file(dir+\"/data/\"+'nbr.geojson')"
   ]
  },
  {
   "cell_type": "code",
   "execution_count": 79,
   "metadata": {},
   "outputs": [],
   "source": [
    "#Filter down Redundant GDFS\n",
    "gdf_gun = gdf_gun[gdf_gun['DEATH'] == 0] #Remove shooting deaths as they are redundant with homicides\n",
    "gdf_car = gdf_car[gdf_car['MCI_CATEGORY'] == 'NonMCI']"
   ]
  },
  {
   "cell_type": "code",
   "execution_count": 80,
   "metadata": {},
   "outputs": [],
   "source": [
    "##Add a crime field \n",
    "# Example for the Homicide GDF\n",
    "gdf_hom['CRIME'] = 'Homicide'\n",
    "\n",
    "# Example for the Non-Fatal Shootings GDF, assuming 'INJURIES' indicates non-fatal shootings\n",
    "gdf_gun['CRIME'] = 'Shooting (Non-Fatal)'\n",
    "\n",
    "# Example for the Bike Theft GDF\n",
    "gdf_bike['CRIME'] = 'Bike Theft'\n",
    "\n",
    "# For the MCI GDF, assuming 'MCI_CATEGORY' is present and you want to exclude 'NonMCI' values\n",
    "gdf_mci['CRIME'] = gdf_mci['MCI_CATEGORY']\n",
    "\n",
    "gdf_car['CRIME'] = 'Theft From Motor Vehicle'\n",
    "\n",
    "# If there's a specific condition for other datasets, follow a similar pattern:\n",
    "# gdf_x['CRIME'] = [appropriate logic here]\n"
   ]
  },
  {
   "cell_type": "code",
   "execution_count": 84,
   "metadata": {},
   "outputs": [
    {
     "name": "stdout",
     "output_type": "stream",
     "text": [
      "Index(['OBJECTID', 'EVENT_UNIQUE_ID', 'REPORT_DATE', 'OCC_DATE', 'REPORT_YEAR',\n",
      "       'REPORT_MONTH', 'REPORT_DAY', 'REPORT_DOY', 'REPORT_DOW', 'REPORT_HOUR',\n",
      "       'OCC_YEAR', 'OCC_MONTH', 'OCC_DAY', 'OCC_DOY', 'OCC_DOW', 'OCC_HOUR',\n",
      "       'DIVISION', 'LOCATION_TYPE', 'PREMISES_TYPE', 'UCR_CODE', 'UCR_EXT',\n",
      "       'OFFENCE', 'MCI_CATEGORY', 'HOOD_158', 'NEIGHBOURHOOD_158', 'HOOD_140',\n",
      "       'NEIGHBOURHOOD_140', 'LONG_WGS84', 'LAT_WGS84', 'geometry', 'CRIME'],\n",
      "      dtype='object')\n",
      "372899\n",
      "CRIME\n",
      "Assault            197906\n",
      "Break and Enter     70148\n",
      "Auto Theft          58441\n",
      "Robbery             33921\n",
      "Theft Over          12483\n",
      "Name: count, dtype: int64\n",
      "Index(['OBJECTID', 'EVENT_UNIQUE_ID', 'OCC_DATE', 'OCC_YEAR', 'OCC_MONTH',\n",
      "       'OCC_DAY', 'OCC_DOW', 'OCC_DOY', 'DIVISION', 'HOMICIDE_TYPE',\n",
      "       'HOOD_158', 'NEIGHBOURHOOD_158', 'HOOD_140', 'NEIGHBOURHOOD_140',\n",
      "       'LONG_WGS84', 'LAT_WGS84', 'geometry', 'CRIME'],\n",
      "      dtype='object')\n",
      "1396\n",
      "CRIME\n",
      "Homicide    1396\n",
      "Name: count, dtype: int64\n",
      "Index(['OBJECTID', 'EVENT_UNIQUE_ID', 'OCC_DATE', 'OCC_YEAR', 'OCC_MONTH',\n",
      "       'OCC_DOW', 'OCC_DOY', 'OCC_DAY', 'OCC_HOUR', 'OCC_TIME_RANGE',\n",
      "       'DIVISION', 'DEATH', 'INJURIES', 'HOOD_158', 'NEIGHBOURHOOD_158',\n",
      "       'HOOD_140', 'NEIGHBOURHOOD_140', 'LONG_WGS84', 'LAT_WGS84', 'geometry',\n",
      "       'CRIME'],\n",
      "      dtype='object')\n",
      "5364\n",
      "CRIME\n",
      "Shooting (Non-Fatal)    5364\n",
      "Name: count, dtype: int64\n",
      "Index(['OBJECTID', 'EVENT_UNIQUE_ID', 'PRIMARY_OFFENCE', 'OCC_DATE',\n",
      "       'OCC_YEAR', 'OCC_MONTH', 'OCC_DOW', 'OCC_DAY', 'OCC_DOY', 'OCC_HOUR',\n",
      "       'REPORT_DATE', 'REPORT_YEAR', 'REPORT_MONTH', 'REPORT_DOW',\n",
      "       'REPORT_DAY', 'REPORT_DOY', 'REPORT_HOUR', 'DIVISION', 'LOCATION_TYPE',\n",
      "       'PREMISES_TYPE', 'BIKE_MAKE', 'BIKE_MODEL', 'BIKE_TYPE', 'BIKE_SPEED',\n",
      "       'BIKE_COLOUR', 'BIKE_COST', 'STATUS', 'HOOD_158', 'NEIGHBOURHOOD_158',\n",
      "       'HOOD_140', 'NEIGHBOURHOOD_140', 'LONG_WGS84', 'LAT_WGS84', 'geometry',\n",
      "       'CRIME'],\n",
      "      dtype='object')\n",
      "34985\n",
      "CRIME\n",
      "Bike Theft    34985\n",
      "Name: count, dtype: int64\n",
      "Index(['OBJECTID', 'EVENT_UNIQUE_ID', 'REPORT_DATE', 'OCC_DATE', 'REPORT_YEAR',\n",
      "       'REPORT_MONTH', 'REPORT_DAY', 'REPORT_DOY', 'REPORT_DOW', 'REPORT_HOUR',\n",
      "       'OCC_YEAR', 'OCC_MONTH', 'OCC_DAY', 'OCC_DOY', 'OCC_DOW', 'OCC_HOUR',\n",
      "       'DIVISION', 'LOCATION_TYPE', 'PREMISES_TYPE', 'UCR_CODE', 'UCR_EXT',\n",
      "       'OFFENCE', 'MCI_CATEGORY', 'HOOD_158', 'NEIGHBOURHOOD_158', 'HOOD_140',\n",
      "       'NEIGHBOURHOOD_140', 'LONG_WGS84', 'LAT_WGS84', 'geometry', 'CRIME'],\n",
      "      dtype='object')\n",
      "87320\n",
      "CRIME\n",
      "Theft From Motor Vehicle    87320\n",
      "Name: count, dtype: int64\n"
     ]
    }
   ],
   "source": [
    "data = [gdf_mci, gdf_hom, gdf_gun, gdf_bike, gdf_car]\n",
    "for gdf in data:\n",
    "\n",
    "    print(gdf.columns)\n",
    "    print(len(gdf))\n",
    "    print(gdf['CRIME'].value_counts())"
   ]
  },
  {
   "cell_type": "code",
   "execution_count": 85,
   "metadata": {},
   "outputs": [
    {
     "name": "stdout",
     "output_type": "stream",
     "text": [
      "['OBJECTID_1', 'AREA_NAME', 'HOOD_ID', 'ASSAULT_2014', 'ASSAULT_2015', 'ASSAULT_2016', 'ASSAULT_2017', 'ASSAULT_2018', 'ASSAULT_2019', 'ASSAULT_2020', 'ASSAULT_2021', 'ASSAULT_2022', 'ASSAULT_2023', 'ASSAULT_RATE_2014', 'ASSAULT_RATE_2015', 'ASSAULT_RATE_2016', 'ASSAULT_RATE_2017', 'ASSAULT_RATE_2018', 'ASSAULT_RATE_2019', 'ASSAULT_RATE_2020', 'ASSAULT_RATE_2021', 'ASSAULT_RATE_2022', 'ASSAULT_RATE_2023', 'AUTOTHEFT_2014', 'AUTOTHEFT_2015', 'AUTOTHEFT_2016', 'AUTOTHEFT_2017', 'AUTOTHEFT_2018', 'AUTOTHEFT_2019', 'AUTOTHEFT_2020', 'AUTOTHEFT_2021', 'AUTOTHEFT_2022', 'AUTOTHEFT_2023', 'AUTOTHEFT_RATE_2014', 'AUTOTHEFT_RATE_2015', 'AUTOTHEFT_RATE_2016', 'AUTOTHEFT_RATE_2017', 'AUTOTHEFT_RATE_2018', 'AUTOTHEFT_RATE_2019', 'AUTOTHEFT_RATE_2020', 'AUTOTHEFT_RATE_2021', 'AUTOTHEFT_RATE_2022', 'AUTOTHEFT_RATE_2023', 'BIKETHEFT_2014', 'BIKETHEFT_2015', 'BIKETHEFT_2016', 'BIKETHEFT_2017', 'BIKETHEFT_2018', 'BIKETHEFT_2019', 'BIKETHEFT_2020', 'BIKETHEFT_2021', 'BIKETHEFT_2022', 'BIKETHEFT_2023', 'BIKETHEFT_RATE_2014', 'BIKETHEFT_RATE_2015', 'BIKETHEFT_RATE_2016', 'BIKETHEFT_RATE_2017', 'BIKETHEFT_RATE_2018', 'BIKETHEFT_RATE_2019', 'BIKETHEFT_RATE_2020', 'BIKETHEFT_RATE_2021', 'BIKETHEFT_RATE_2022', 'BIKETHEFT_RATE_2023', 'BREAKENTER_2014', 'BREAKENTER_2015', 'BREAKENTER_2016', 'BREAKENTER_2017', 'BREAKENTER_2018', 'BREAKENTER_2019', 'BREAKENTER_2020', 'BREAKENTER_2021', 'BREAKENTER_2022', 'BREAKENTER_2023', 'BREAKENTER_RATE_2014', 'BREAKENTER_RATE_2015', 'BREAKENTER_RATE_2016', 'BREAKENTER_RATE_2017', 'BREAKENTER_RATE_2018', 'BREAKENTER_RATE_2019', 'BREAKENTER_RATE_2020', 'BREAKENTER_RATE_2021', 'BREAKENTER_RATE_2022', 'BREAKENTER_RATE_2023', 'HOMICIDE_2014', 'HOMICIDE_2015', 'HOMICIDE_2016', 'HOMICIDE_2017', 'HOMICIDE_2018', 'HOMICIDE_2019', 'HOMICIDE_2020', 'HOMICIDE_2021', 'HOMICIDE_2022', 'HOMICIDE_2023', 'HOMICIDE_RATE_2014', 'HOMICIDE_RATE_2015', 'HOMICIDE_RATE_2016', 'HOMICIDE_RATE_2017', 'HOMICIDE_RATE_2018', 'HOMICIDE_RATE_2019', 'HOMICIDE_RATE_2020', 'HOMICIDE_RATE_2021', 'HOMICIDE_RATE_2022', 'HOMICIDE_RATE_2023', 'ROBBERY_2014', 'ROBBERY_2015', 'ROBBERY_2016', 'ROBBERY_2017', 'ROBBERY_2018', 'ROBBERY_2019', 'ROBBERY_2020', 'ROBBERY_2021', 'ROBBERY_2022', 'ROBBERY_2023', 'ROBBERY_RATE_2014', 'ROBBERY_RATE_2015', 'ROBBERY_RATE_2016', 'ROBBERY_RATE_2017', 'ROBBERY_RATE_2018', 'ROBBERY_RATE_2019', 'ROBBERY_RATE_2020', 'ROBBERY_RATE_2021', 'ROBBERY_RATE_2022', 'ROBBERY_RATE_2023', 'SHOOTING_2014', 'SHOOTING_2015', 'SHOOTING_2016', 'SHOOTING_2017', 'SHOOTING_2018', 'SHOOTING_2019', 'SHOOTING_2020', 'SHOOTING_2021', 'SHOOTING_2022', 'SHOOTING_2023', 'SHOOTING_RATE_2014', 'SHOOTING_RATE_2015', 'SHOOTING_RATE_2016', 'SHOOTING_RATE_2017', 'SHOOTING_RATE_2018', 'SHOOTING_RATE_2019', 'SHOOTING_RATE_2020', 'SHOOTING_RATE_2021', 'SHOOTING_RATE_2022', 'SHOOTING_RATE_2023', 'THEFTFROMMV_2014', 'THEFTFROMMV_2015', 'THEFTFROMMV_2016', 'THEFTFROMMV_2017', 'THEFTFROMMV_2018', 'THEFTFROMMV_2019', 'THEFTFROMMV_2020', 'THEFTFROMMV_2021', 'THEFTFROMMV_2022', 'THEFTFROMMV_2023', 'THEFTFROMMV_RATE_2014', 'THEFTFROMMV_RATE_2015', 'THEFTFROMMV_RATE_2016', 'THEFTFROMMV_RATE_2017', 'THEFTFROMMV_RATE_2018', 'THEFTFROMMV_RATE_2019', 'THEFTFROMMV_RATE_2020', 'THEFTFROMMV_RATE_2021', 'THEFTFROMMV_RATE_2022', 'THEFTFROMMV_RATE_2023', 'THEFTOVER_2014', 'THEFTOVER_2015', 'THEFTOVER_2016', 'THEFTOVER_2017', 'THEFTOVER_2018', 'THEFTOVER_2019', 'THEFTOVER_2020', 'THEFTOVER_2021', 'THEFTOVER_2022', 'THEFTOVER_2023', 'THEFTOVER_RATE_2014', 'THEFTOVER_RATE_2015', 'THEFTOVER_RATE_2016', 'THEFTOVER_RATE_2017', 'THEFTOVER_RATE_2018', 'THEFTOVER_RATE_2019', 'THEFTOVER_RATE_2020', 'THEFTOVER_RATE_2021', 'THEFTOVER_RATE_2022', 'THEFTOVER_RATE_2023', 'POPULATION_2023', 'Shape__Area', 'Shape__Length', 'geometry']\n"
     ]
    }
   ],
   "source": [
    "# Convert columns Index to a list and print\n",
    "print(list(gdf_nbr.columns))\n"
   ]
  },
  {
   "cell_type": "code",
   "execution_count": 86,
   "metadata": {},
   "outputs": [],
   "source": [
    "# Common columns identified (as an example)\n",
    "common_columns = ['EVENT_UNIQUE_ID', 'OCC_DATE', 'OCC_YEAR', 'OCC_DOW','DIVISION','HOOD_158','NEIGHBOURHOOD_158', 'CRIME','geometry']\n",
    "\n",
    "# Additional necessary columns identified (example based on your provided columns)\n",
    "additional_columns = ['OCC_HOUR','HOMICIDE_TYPE', 'INJURIES', 'BIKE_MAKE', 'BIKE_COST', 'STATUS', 'OFFENCE', 'PRIMARY_OFFENCE','LOCATION_TYPE', 'PREMISES_TYPE',]"
   ]
  },
  {
   "cell_type": "code",
   "execution_count": 88,
   "metadata": {},
   "outputs": [
    {
     "name": "stdout",
     "output_type": "stream",
     "text": [
      "True\n",
      "True\n",
      "True\n",
      "True\n",
      "True\n",
      "True\n",
      "True\n",
      "True\n",
      "True\n",
      "True\n",
      "True\n",
      "True\n",
      "True\n",
      "True\n",
      "True\n",
      "True\n",
      "True\n",
      "True\n",
      "True\n",
      "True\n",
      "True\n",
      "True\n",
      "True\n",
      "True\n",
      "True\n",
      "True\n",
      "True\n",
      "True\n",
      "True\n",
      "True\n",
      "True\n",
      "True\n",
      "True\n",
      "True\n",
      "True\n",
      "True\n",
      "True\n",
      "True\n",
      "True\n",
      "True\n",
      "True\n",
      "True\n",
      "True\n",
      "True\n",
      "True\n"
     ]
    }
   ],
   "source": [
    "for gdf in data:\n",
    "    for col in common_columns:\n",
    "        print(col in gdf_hom.columns)"
   ]
  },
  {
   "cell_type": "code",
   "execution_count": 89,
   "metadata": {},
   "outputs": [
    {
     "name": "stdout",
     "output_type": "stream",
     "text": [
      "Index(['OBJECTID', 'EVENT_UNIQUE_ID', 'REPORT_DATE', 'OCC_DATE', 'REPORT_YEAR',\n",
      "       'REPORT_MONTH', 'REPORT_DAY', 'REPORT_DOY', 'REPORT_DOW', 'REPORT_HOUR',\n",
      "       'OCC_YEAR', 'OCC_MONTH', 'OCC_DAY', 'OCC_DOY', 'OCC_DOW', 'OCC_HOUR',\n",
      "       'DIVISION', 'LOCATION_TYPE', 'PREMISES_TYPE', 'UCR_CODE', 'UCR_EXT',\n",
      "       'OFFENCE', 'MCI_CATEGORY', 'HOOD_158', 'NEIGHBOURHOOD_158', 'HOOD_140',\n",
      "       'NEIGHBOURHOOD_140', 'LONG_WGS84', 'LAT_WGS84', 'geometry', 'CRIME',\n",
      "       'HOMICIDE_TYPE', 'INJURIES', 'BIKE_MAKE', 'BIKE_COST', 'STATUS',\n",
      "       'PRIMARY_OFFENCE'],\n",
      "      dtype='object')\n",
      "372899\n",
      "Index(['OBJECTID', 'EVENT_UNIQUE_ID', 'OCC_DATE', 'OCC_YEAR', 'OCC_MONTH',\n",
      "       'OCC_DAY', 'OCC_DOW', 'OCC_DOY', 'DIVISION', 'HOMICIDE_TYPE',\n",
      "       'HOOD_158', 'NEIGHBOURHOOD_158', 'HOOD_140', 'NEIGHBOURHOOD_140',\n",
      "       'LONG_WGS84', 'LAT_WGS84', 'geometry', 'CRIME', 'OCC_HOUR', 'INJURIES',\n",
      "       'BIKE_MAKE', 'BIKE_COST', 'STATUS', 'OFFENCE', 'PRIMARY_OFFENCE',\n",
      "       'LOCATION_TYPE', 'PREMISES_TYPE'],\n",
      "      dtype='object')\n",
      "1396\n",
      "Index(['OBJECTID', 'EVENT_UNIQUE_ID', 'OCC_DATE', 'OCC_YEAR', 'OCC_MONTH',\n",
      "       'OCC_DOW', 'OCC_DOY', 'OCC_DAY', 'OCC_HOUR', 'OCC_TIME_RANGE',\n",
      "       'DIVISION', 'DEATH', 'INJURIES', 'HOOD_158', 'NEIGHBOURHOOD_158',\n",
      "       'HOOD_140', 'NEIGHBOURHOOD_140', 'LONG_WGS84', 'LAT_WGS84', 'geometry',\n",
      "       'CRIME', 'HOMICIDE_TYPE', 'BIKE_MAKE', 'BIKE_COST', 'STATUS', 'OFFENCE',\n",
      "       'PRIMARY_OFFENCE', 'LOCATION_TYPE', 'PREMISES_TYPE'],\n",
      "      dtype='object')\n",
      "5364\n",
      "Index(['OBJECTID', 'EVENT_UNIQUE_ID', 'PRIMARY_OFFENCE', 'OCC_DATE',\n",
      "       'OCC_YEAR', 'OCC_MONTH', 'OCC_DOW', 'OCC_DAY', 'OCC_DOY', 'OCC_HOUR',\n",
      "       'REPORT_DATE', 'REPORT_YEAR', 'REPORT_MONTH', 'REPORT_DOW',\n",
      "       'REPORT_DAY', 'REPORT_DOY', 'REPORT_HOUR', 'DIVISION', 'LOCATION_TYPE',\n",
      "       'PREMISES_TYPE', 'BIKE_MAKE', 'BIKE_MODEL', 'BIKE_TYPE', 'BIKE_SPEED',\n",
      "       'BIKE_COLOUR', 'BIKE_COST', 'STATUS', 'HOOD_158', 'NEIGHBOURHOOD_158',\n",
      "       'HOOD_140', 'NEIGHBOURHOOD_140', 'LONG_WGS84', 'LAT_WGS84', 'geometry',\n",
      "       'CRIME', 'HOMICIDE_TYPE', 'INJURIES', 'OFFENCE'],\n",
      "      dtype='object')\n",
      "34985\n",
      "Index(['OBJECTID', 'EVENT_UNIQUE_ID', 'REPORT_DATE', 'OCC_DATE', 'REPORT_YEAR',\n",
      "       'REPORT_MONTH', 'REPORT_DAY', 'REPORT_DOY', 'REPORT_DOW', 'REPORT_HOUR',\n",
      "       'OCC_YEAR', 'OCC_MONTH', 'OCC_DAY', 'OCC_DOY', 'OCC_DOW', 'OCC_HOUR',\n",
      "       'DIVISION', 'LOCATION_TYPE', 'PREMISES_TYPE', 'UCR_CODE', 'UCR_EXT',\n",
      "       'OFFENCE', 'MCI_CATEGORY', 'HOOD_158', 'NEIGHBOURHOOD_158', 'HOOD_140',\n",
      "       'NEIGHBOURHOOD_140', 'LONG_WGS84', 'LAT_WGS84', 'geometry', 'CRIME',\n",
      "       'HOMICIDE_TYPE', 'INJURIES', 'BIKE_MAKE', 'BIKE_COST', 'STATUS',\n",
      "       'PRIMARY_OFFENCE'],\n",
      "      dtype='object')\n",
      "87320\n"
     ]
    }
   ],
   "source": [
    "# Standardize GeoDataFrames\n",
    "gdfs = [gdf_mci, gdf_hom, gdf_gun, gdf_bike, gdf_car]\n",
    "for gdf in gdfs:\n",
    "    for col in additional_columns:\n",
    "        if col not in gdf.columns:\n",
    "            gdf[col] = None  # Fill missing additional columns with None or an appropriate value\n",
    "\n",
    "for gdf in gdfs:\n",
    "\n",
    "    print(gdf.columns)\n",
    "    print(len(gdf))\n",
    "\n"
   ]
  },
  {
   "cell_type": "code",
   "execution_count": 90,
   "metadata": {},
   "outputs": [],
   "source": [
    "# Select columns for each GDF before concatenating\n",
    "gdfs = [gdf[common_columns + additional_columns] for gdf in gdfs if set(common_columns).issubset(gdf.columns)]\n",
    "\n",
    "# Merge standardized GeoDataFrames\n",
    "merged_gdf = gpd.GeoDataFrame(pd.concat(gdfs, ignore_index=True))\n",
    "\n",
    "# Save merged GeoDataFrame to a new GeoJSON file\n",
    "merged_gdf.to_file(dir+\"/data/crime.geojson\", driver='GeoJSON')"
   ]
  },
  {
   "cell_type": "code",
   "execution_count": 93,
   "metadata": {},
   "outputs": [
    {
     "name": "stdout",
     "output_type": "stream",
     "text": [
      "<class 'geopandas.geodataframe.GeoDataFrame'>\n",
      "RangeIndex: 501964 entries, 0 to 501963\n",
      "Data columns (total 19 columns):\n",
      " #   Column             Non-Null Count   Dtype   \n",
      "---  ------             --------------   -----   \n",
      " 0   EVENT_UNIQUE_ID    501964 non-null  object  \n",
      " 1   OCC_DATE           501964 non-null  int64   \n",
      " 2   OCC_YEAR           501834 non-null  float64 \n",
      " 3   OCC_DOW            501834 non-null  object  \n",
      " 4   DIVISION           501964 non-null  object  \n",
      " 5   HOOD_158           501964 non-null  object  \n",
      " 6   NEIGHBOURHOOD_158  501964 non-null  object  \n",
      " 7   CRIME              501964 non-null  object  \n",
      " 8   geometry           501964 non-null  geometry\n",
      " 9   OCC_HOUR           500568 non-null  object  \n",
      " 10  HOMICIDE_TYPE      1396 non-null    object  \n",
      " 11  INJURIES           5364 non-null    object  \n",
      " 12  BIKE_MAKE          34985 non-null   object  \n",
      " 13  BIKE_COST          32607 non-null   float64 \n",
      " 14  STATUS             34985 non-null   object  \n",
      " 15  OFFENCE            460219 non-null  object  \n",
      " 16  PRIMARY_OFFENCE    34985 non-null   object  \n",
      " 17  LOCATION_TYPE      495204 non-null  object  \n",
      " 18  PREMISES_TYPE      495204 non-null  object  \n",
      "dtypes: float64(2), geometry(1), int64(1), object(15)\n",
      "memory usage: 72.8+ MB\n",
      "None\n"
     ]
    }
   ],
   "source": [
    "print(merged_gdf.info())"
   ]
  },
  {
   "cell_type": "code",
   "execution_count": 95,
   "metadata": {},
   "outputs": [
    {
     "name": "stdout",
     "output_type": "stream",
     "text": [
      "CRIME\n",
      "Assault                     197906\n",
      "Theft From Motor Vehicle     87320\n",
      "Break and Enter              70148\n",
      "Auto Theft                   58441\n",
      "Bike Theft                   34985\n",
      "Robbery                      33921\n",
      "Theft Over                   12483\n",
      "Shooting (Non-Fatal)          5364\n",
      "Homicide                      1396\n",
      "Name: count, dtype: int64\n"
     ]
    }
   ],
   "source": [
    "print(merged_gdf['CRIME'].value_counts())"
   ]
  },
  {
   "cell_type": "code",
   "execution_count": 96,
   "metadata": {},
   "outputs": [
    {
     "name": "stdout",
     "output_type": "stream",
     "text": [
      "EPSG:4326\n"
     ]
    },
    {
     "name": "stderr",
     "output_type": "stream",
     "text": [
      "/Users/tomweatherburn/anaconda3/envs/geo/lib/python3.10/site-packages/IPython/core/interactiveshell.py:3517: FutureWarning: The `op` parameter is deprecated and will be removed in a future release. Please use the `predicate` parameter instead.\n",
      "  if await self.run_code(code, result, async_=asy):\n"
     ]
    }
   ],
   "source": [
    "# Ensure both GeoDataFrames use the same CRS\n",
    "merged_gdf = merged_gdf.to_crs(gdf_nbr.crs)\n",
    "print(merged_gdf.crs)\n",
    "\n",
    "# Perform a spatial join\n",
    "joined_gdf = gpd.sjoin(merged_gdf, gdf_nbr[['HOOD_ID', 'geometry']], how='left', op='within')"
   ]
  },
  {
   "cell_type": "code",
   "execution_count": 97,
   "metadata": {},
   "outputs": [
    {
     "name": "stdout",
     "output_type": "stream",
     "text": [
      "Index(['EVENT_UNIQUE_ID', 'OCC_DATE', 'OCC_YEAR', 'OCC_DOW', 'DIVISION',\n",
      "       'HOOD_158', 'NEIGHBOURHOOD_158', 'CRIME', 'geometry', 'OCC_HOUR',\n",
      "       'HOMICIDE_TYPE', 'INJURIES', 'BIKE_MAKE', 'BIKE_COST', 'STATUS',\n",
      "       'OFFENCE', 'PRIMARY_OFFENCE', 'LOCATION_TYPE', 'PREMISES_TYPE',\n",
      "       'index_right', 'HOOD_ID'],\n",
      "      dtype='object')\n"
     ]
    }
   ],
   "source": [
    "print(joined_gdf.columns)"
   ]
  },
  {
   "cell_type": "code",
   "execution_count": null,
   "metadata": {},
   "outputs": [],
   "source": [
    "##Create a new gdf_nbr with the geometry and summaries of the incidents by CRIME and OC_YEAR"
   ]
  },
  {
   "cell_type": "code",
   "execution_count": 25,
   "metadata": {},
   "outputs": [
    {
     "name": "stdout",
     "output_type": "stream",
     "text": [
      "Saved: /data/crime_143.geojson\n",
      "Saved: /data/crime_144.geojson\n",
      "Saved: /data/crime_55.geojson\n",
      "Saved: /data/crime_27.geojson\n",
      "Saved: /data/crime_NSA.geojson\n",
      "Saved: /data/crime_81.geojson\n",
      "Saved: /data/crime_105.geojson\n",
      "Saved: /data/crime_136.geojson\n",
      "Saved: /data/crime_123.geojson\n",
      "Saved: /data/crime_43.geojson\n",
      "Saved: /data/crime_164.geojson\n",
      "Saved: /data/crime_121.geojson\n",
      "Saved: /data/crime_155.geojson\n",
      "Saved: /data/crime_69.geojson\n",
      "Saved: /data/crime_166.geojson\n",
      "Saved: /data/crime_70.geojson\n",
      "Saved: /data/crime_98.geojson\n",
      "Saved: /data/crime_38.geojson\n",
      "Saved: /data/crime_95.geojson\n",
      "Saved: /data/crime_170.geojson\n",
      "Saved: /data/crime_142.geojson\n",
      "Saved: /data/crime_94.geojson\n",
      "Saved: /data/crime_80.geojson\n",
      "Saved: /data/crime_24.geojson\n",
      "Saved: /data/crime_167.geojson\n",
      "Saved: /data/crime_37.geojson\n",
      "Saved: /data/crime_141.geojson\n",
      "Saved: /data/crime_172.geojson\n",
      "Saved: /data/crime_92.geojson\n",
      "Saved: /data/crime_20.geojson\n",
      "Saved: /data/crime_85.geojson\n",
      "Saved: /data/crime_84.geojson\n",
      "Saved: /data/crime_124.geojson\n",
      "Saved: /data/crime_54.geojson\n",
      "Saved: /data/crime_74.geojson\n",
      "Saved: /data/crime_160.geojson\n",
      "Saved: /data/crime_111.geojson\n",
      "Saved: /data/crime_126.geojson\n",
      "Saved: /data/crime_107.geojson\n",
      "Saved: /data/crime_71.geojson\n",
      "Saved: /data/crime_100.geojson\n",
      "Saved: /data/crime_156.geojson\n",
      "Saved: /data/crime_36.geojson\n",
      "Saved: /data/crime_154.geojson\n",
      "Saved: /data/crime_72.geojson\n",
      "Saved: /data/crime_61.geojson\n",
      "Saved: /data/crime_120.geojson\n",
      "Saved: /data/crime_48.geojson\n",
      "Saved: /data/crime_159.geojson\n",
      "Saved: /data/crime_68.geojson\n",
      "Saved: /data/crime_113.geojson\n",
      "Saved: /data/crime_122.geojson\n",
      "Saved: /data/crime_11.geojson\n",
      "Saved: /data/crime_58.geojson\n",
      "Saved: /data/crime_148.geojson\n",
      "Saved: /data/crime_174.geojson\n",
      "Saved: /data/crime_59.geojson\n",
      "Saved: /data/crime_78.geojson\n",
      "Saved: /data/crime_151.geojson\n",
      "Saved: /data/crime_115.geojson\n",
      "Saved: /data/crime_125.geojson\n",
      "Saved: /data/crime_135.geojson\n",
      "Saved: /data/crime_91.geojson\n",
      "Saved: /data/crime_165.geojson\n",
      "Saved: /data/crime_150.geojson\n",
      "Saved: /data/crime_52.geojson\n",
      "Saved: /data/crime_158.geojson\n",
      "Saved: /data/crime_138.geojson\n",
      "Saved: /data/crime_44.geojson\n",
      "Saved: /data/crime_67.geojson\n",
      "Saved: /data/crime_47.geojson\n",
      "Saved: /data/crime_32.geojson\n",
      "Saved: /data/crime_73.geojson\n",
      "Saved: /data/crime_63.geojson\n",
      "Saved: /data/crime_18.geojson\n",
      "Saved: /data/crime_28.geojson\n",
      "Saved: /data/crime_153.geojson\n",
      "Saved: /data/crime_87.geojson\n",
      "Saved: /data/crime_168.geojson\n",
      "Saved: /data/crime_119.geojson\n",
      "Saved: /data/crime_16.geojson\n",
      "Saved: /data/crime_83.geojson\n",
      "Saved: /data/crime_108.geojson\n",
      "Saved: /data/crime_41.geojson\n",
      "Saved: /data/crime_13.geojson\n",
      "Saved: /data/crime_163.geojson\n",
      "Saved: /data/crime_60.geojson\n",
      "Saved: /data/crime_129.geojson\n",
      "Saved: /data/crime_2.geojson\n",
      "Saved: /data/crime_42.geojson\n",
      "Saved: /data/crime_146.geojson\n",
      "Saved: /data/crime_9.geojson\n",
      "Saved: /data/crime_171.geojson\n",
      "Saved: /data/crime_102.geojson\n",
      "Saved: /data/crime_86.geojson\n",
      "Saved: /data/crime_133.geojson\n",
      "Saved: /data/crime_106.geojson\n",
      "Saved: /data/crime_116.geojson\n",
      "Saved: /data/crime_25.geojson\n",
      "Saved: /data/crime_157.geojson\n",
      "Saved: /data/crime_19.geojson\n",
      "Saved: /data/crime_62.geojson\n",
      "Saved: /data/crime_149.geojson\n",
      "Saved: /data/crime_46.geojson\n",
      "Saved: /data/crime_29.geojson\n",
      "Saved: /data/crime_56.geojson\n",
      "Saved: /data/crime_89.geojson\n",
      "Saved: /data/crime_130.geojson\n",
      "Saved: /data/crime_35.geojson\n",
      "Saved: /data/crime_1.geojson\n",
      "Saved: /data/crime_31.geojson\n",
      "Saved: /data/crime_22.geojson\n",
      "Saved: /data/crime_79.geojson\n",
      "Saved: /data/crime_6.geojson\n",
      "Saved: /data/crime_128.geojson\n",
      "Saved: /data/crime_152.geojson\n",
      "Saved: /data/crime_21.geojson\n",
      "Saved: /data/crime_96.geojson\n",
      "Saved: /data/crime_134.geojson\n",
      "Saved: /data/crime_162.geojson\n",
      "Saved: /data/crime_101.geojson\n",
      "Saved: /data/crime_40.geojson\n",
      "Saved: /data/crime_173.geojson\n",
      "Saved: /data/crime_112.geojson\n",
      "Saved: /data/crime_50.geojson\n",
      "Saved: /data/crime_57.geojson\n",
      "Saved: /data/crime_88.geojson\n",
      "Saved: /data/crime_39.geojson\n",
      "Saved: /data/crime_139.geojson\n",
      "Saved: /data/crime_30.geojson\n",
      "Saved: /data/crime_90.geojson\n",
      "Saved: /data/crime_23.geojson\n",
      "Saved: /data/crime_64.geojson\n",
      "Saved: /data/crime_15.geojson\n",
      "Saved: /data/crime_110.geojson\n",
      "Saved: /data/crime_114.geojson\n",
      "Saved: /data/crime_34.geojson\n",
      "Saved: /data/crime_118.geojson\n",
      "Saved: /data/crime_10.geojson\n",
      "Saved: /data/crime_7.geojson\n",
      "Saved: /data/crime_161.geojson\n",
      "Saved: /data/crime_140.geojson\n",
      "Saved: /data/crime_66.geojson\n",
      "Saved: /data/crime_109.geojson\n",
      "Saved: /data/crime_33.geojson\n",
      "Saved: /data/crime_8.geojson\n",
      "Saved: /data/crime_12.geojson\n",
      "Saved: /data/crime_145.geojson\n",
      "Saved: /data/crime_103.geojson\n",
      "Saved: /data/crime_49.geojson\n",
      "Saved: /data/crime_53.geojson\n",
      "Saved: /data/crime_169.geojson\n",
      "Saved: /data/crime_65.geojson\n",
      "Saved: /data/crime_147.geojson\n",
      "Saved: /data/crime_97.geojson\n",
      "Saved: /data/crime_3.geojson\n",
      "Saved: /data/crime_5.geojson\n",
      "Saved: /data/crime_4.geojson\n",
      "Saved: /data/crime_99.geojson\n"
     ]
    }
   ],
   "source": [
    "##Create individual Neighbourhood geojsons\n",
    "for neighborhood_id in joined_gdf['HOOD_ID'].unique():\n",
    "    # Filter the GeoDataFrame for the current neighborhood ID\n",
    "    gdf_subset = merged_gdf[merged_gdf['HOOD_ID'] == neighborhood_id]\n",
    "    \n",
    "    # Define the filename using the neighborhood ID\n",
    "    filename = f'/data/crime_{neighborhood_id}.geojson'\n",
    "    \n",
    "    # Save the subset GeoDataFrame to a GeoJSON file\n",
    "    gdf_subset.to_file(dir+filename, driver='GeoJSON')\n",
    "    \n",
    "    print(f'Saved: {filename}')"
   ]
  },
  {
   "cell_type": "code",
   "execution_count": 38,
   "metadata": {},
   "outputs": [
    {
     "name": "stdout",
     "output_type": "stream",
     "text": [
      "['ASSAULT_2023', 'AUTOTHEFT_2023', 'BIKETHEFT_2023', 'BREAKENTER_2023', 'HOMICIDE_2023', 'ROBBERY_2023', 'SHOOTING_2023', 'THEFTFROMMV_2023', 'THEFTOVER_2023']\n"
     ]
    }
   ],
   "source": [
    "###Create total Crime rates in NBR file\n",
    "# Filter columns for crime incidents in 2023\n",
    "cols_2023 = [col for col in gdf_nbr.columns if '_2023' in col and 'RATE' not in col and col != 'POPULATION_2023']\n",
    "print(cols_2023)"
   ]
  },
  {
   "cell_type": "code",
   "execution_count": null,
   "metadata": {},
   "outputs": [],
   "source": [
    "### CREATE A CHLOROPLETH MAP OF NBR\n",
    "\n",
    "import folium\n",
    "\n",
    "# Convert the GeoDataFrame 'nbr' to GeoJSON format\n",
    "nbr_geojson = gdf_nbr.to_json()\n",
    "\n",
    "# Create a map centered around Toronto\n",
    "map_toronto = folium.Map(location=[43.651070, -79.347015], zoom_start=11.5)\n",
    "\n",
    "# Add the choropleth layer to visualize 'Assault_rate_2023'\n",
    "folium.Choropleth(\n",
    "    geo_data=nbr_geojson,  # Use the GeoJSON representation of the 'nbr' GeoDataFrame\n",
    "    name=\"choropleth\",\n",
    "    data=gdf_nbr,  # The DataFrame providing the data (GeoDataFrame in this case)\n",
    "    columns=['HOOD_ID', 'ASSAULT_RATE_2023'],  # Assuming there's an 'id' column in 'nbr' for the neighborhood; adjust if it's different\n",
    "    key_on='feature.properties.HOOD_ID',  # Path in GeoJSON features to the neighborhood identifier; adjust based on your actual GeoJSON structure\n",
    "    fill_color='YlGnBu',  # Using a different color scheme for variety\n",
    "    fill_opacity=0.7,\n",
    "    line_opacity=0.2,\n",
    "    legend_name='Assault Rate in Toronto by Neighborhood (2023)'\n",
    ").add_to(map_toronto)\n",
    "\n",
    "# Display or save the map\n",
    "# Uncomment the next line to display in a Jupyter notebook\n",
    "# map_toronto\n",
    "\n",
    "# Save to an HTML file\n",
    "#map_toronto.save('toronto_assault_rate_choropleth_map.html')\n",
    "\n",
    "map_toronto\n"
   ]
  },
  {
   "cell_type": "code",
   "execution_count": null,
   "metadata": {},
   "outputs": [],
   "source": []
  }
 ],
 "metadata": {
  "kernelspec": {
   "display_name": "geo",
   "language": "python",
   "name": "python3"
  },
  "language_info": {
   "codemirror_mode": {
    "name": "ipython",
    "version": 3
   },
   "file_extension": ".py",
   "mimetype": "text/x-python",
   "name": "python",
   "nbconvert_exporter": "python",
   "pygments_lexer": "ipython3",
   "version": "3.10.10"
  }
 },
 "nbformat": 4,
 "nbformat_minor": 2
}
