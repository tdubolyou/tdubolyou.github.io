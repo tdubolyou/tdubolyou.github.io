{
 "cells": [
  {
   "cell_type": "code",
   "execution_count": 1,
   "metadata": {},
   "outputs": [],
   "source": [
    "import requests\n",
    "import geopandas as gpd\n",
    "\n",
    "# Dictionary of dataset names and their respective URLs\n",
    "datasets = {\n",
    "    \"mci\": \"https://services.arcgis.com/S9th0jAJ7bqgIRjw/arcgis/rest/services/Major_Crime_Indicators_Open_Data/FeatureServer/0/query\",\n",
    "    \"hom\": \"https://services.arcgis.com/S9th0jAJ7bqgIRjw/arcgis/rest/services/Homicides_Open_Data_ASR_RC_TBL_002/FeatureServer/0/query\",\n",
    "    \"gun\": \"https://services.arcgis.com/S9th0jAJ7bqgIRjw/arcgis/rest/services/Shooting_and_Firearm_Discharges_Open_Data/FeatureServer/0/query\",\n",
    "    \"bike\": \"https://services.arcgis.com/S9th0jAJ7bqgIRjw/arcgis/rest/services/Bicycle_Thefts_Open_Data/FeatureServer/0/query\",\n",
    "    \"car\":\"https://services.arcgis.com/S9th0jAJ7bqgIRjw/arcgis/rest/services/Theft_From_Motor_Vehicle_Open_Data/FeatureServer/0/query\",\n",
    "    \"nbr\":\"https://services.arcgis.com/S9th0jAJ7bqgIRjw/arcgis/rest/services/Neighbourhood_Crime_Rates_Open_Data/FeatureServer/0/query\"\n",
    "    # Add more datasets as needed\n",
    "}\n",
    "\n",
    "# Initialize a dictionary to store the GeoDataFrames\n",
    "gdfs = {}\n",
    "\n",
    "for dataset_name, url in datasets.items():\n",
    "    all_features = []\n",
    "    offset = 0\n",
    "    while True:\n",
    "        # Define request parameters\n",
    "        params = {\n",
    "            \"where\": \"1=1\",\n",
    "            \"outFields\": \"*\",\n",
    "            \"outSR\": \"4326\",\n",
    "            \"f\": \"geojson\",\n",
    "            \"resultRecordCount\": 2000,\n",
    "            \"resultOffset\": offset\n",
    "        }\n",
    "        \n",
    "        # Make the request\n",
    "        response = requests.get(url, params=params)\n",
    "        if response.status_code == 200:\n",
    "            data = response.json()\n",
    "            features = data.get(\"features\", [])\n",
    "            if not features:\n",
    "                break  # Exit loop if no more features to fetch\n",
    "            all_features.extend(features)\n",
    "            offset += len(features)\n",
    "        else:\n",
    "            print(f\"Failed to fetch data for {dataset_name}. Status code: {response.status_code}\")\n",
    "            break\n",
    "\n",
    "    # Convert all_features to a GeoDataFrame\n",
    "    gdf = gpd.GeoDataFrame.from_features(all_features)\n",
    "    gdfs[f'gdf_{dataset_name}'] = gdf\n",
    "\n",
    "# At this point, gdfs contains a GeoDataFrame for each dataset, accessible via its name, e.g., gdfs['gdf_dataset1']\n"
   ]
  },
  {
   "cell_type": "code",
   "execution_count": 4,
   "metadata": {},
   "outputs": [
    {
     "name": "stdout",
     "output_type": "stream",
     "text": [
      "<class 'geopandas.geodataframe.GeoDataFrame'>\n",
      "RangeIndex: 372899 entries, 0 to 372898\n",
      "Data columns (total 30 columns):\n",
      " #   Column             Non-Null Count   Dtype   \n",
      "---  ------             --------------   -----   \n",
      " 0   geometry           372899 non-null  geometry\n",
      " 1   OBJECTID           372899 non-null  int64   \n",
      " 2   EVENT_UNIQUE_ID    372899 non-null  object  \n",
      " 3   REPORT_DATE        372899 non-null  int64   \n",
      " 4   OCC_DATE           372899 non-null  int64   \n",
      " 5   REPORT_YEAR        372899 non-null  int64   \n",
      " 6   REPORT_MONTH       372899 non-null  object  \n",
      " 7   REPORT_DAY         372899 non-null  int64   \n",
      " 8   REPORT_DOY         372899 non-null  int64   \n",
      " 9   REPORT_DOW         372899 non-null  object  \n",
      " 10  REPORT_HOUR        372899 non-null  int64   \n",
      " 11  OCC_YEAR           372788 non-null  float64 \n",
      " 12  OCC_MONTH          372788 non-null  object  \n",
      " 13  OCC_DAY            372788 non-null  float64 \n",
      " 14  OCC_DOY            372788 non-null  float64 \n",
      " 15  OCC_DOW            372788 non-null  object  \n",
      " 16  OCC_HOUR           372899 non-null  int64   \n",
      " 17  DIVISION           372899 non-null  object  \n",
      " 18  LOCATION_TYPE      372899 non-null  object  \n",
      " 19  PREMISES_TYPE      372899 non-null  object  \n",
      " 20  UCR_CODE           372899 non-null  int64   \n",
      " 21  UCR_EXT            372899 non-null  int64   \n",
      " 22  OFFENCE            372899 non-null  object  \n",
      " 23  MCI_CATEGORY       372899 non-null  object  \n",
      " 24  HOOD_158           372899 non-null  object  \n",
      " 25  NEIGHBOURHOOD_158  372899 non-null  object  \n",
      " 26  HOOD_140           372899 non-null  object  \n",
      " 27  NEIGHBOURHOOD_140  372899 non-null  object  \n",
      " 28  LONG_WGS84         372899 non-null  float64 \n",
      " 29  LAT_WGS84          372899 non-null  float64 \n",
      "dtypes: float64(5), geometry(1), int64(10), object(14)\n",
      "memory usage: 85.3+ MB\n",
      "None\n"
     ]
    }
   ],
   "source": [
    "\n",
    "\n",
    "print(gdfs['gdf_mci'].info())"
   ]
  },
  {
   "cell_type": "code",
   "execution_count": null,
   "metadata": {},
   "outputs": [],
   "source": []
  }
 ],
 "metadata": {
  "kernelspec": {
   "display_name": "geo",
   "language": "python",
   "name": "python3"
  },
  "language_info": {
   "codemirror_mode": {
    "name": "ipython",
    "version": 3
   },
   "file_extension": ".py",
   "mimetype": "text/x-python",
   "name": "python",
   "nbconvert_exporter": "python",
   "pygments_lexer": "ipython3",
   "version": "3.10.10"
  }
 },
 "nbformat": 4,
 "nbformat_minor": 2
}
